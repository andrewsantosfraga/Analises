{
 "cells": [
  {
   "cell_type": "markdown",
   "metadata": {
    "id": "njUvbhQmC8-t"
   },
   "source": [
    "## Exercício 1: Vestibular\n",
    "\n",
    "Considere que a os dados gerados na célula abaixo contêm o número de acertos de 100 alunos em um vestibular para um curso de exatas, divididas pelos respectivos assuntos. Considere que cada assunto possui um número de questões conforme a tabela abaixo:\n",
    "\n",
    "| assunto | número de questões |\n",
    "|:---:|:---:|\n",
    "| Matemática | 24 |\n",
    "| Português | 18 |\n",
    "| Geografia | 8 |\n",
    "| Inglês | 8 |\n",
    "| História | 8 |\n",
    "| Física | 12 |\n",
    "| Química | 12 |\n",
    "\n",
    "Usando os comandos de operações com DataFrames que você aprendeu na Aula 03, calcule:\n",
    "\n",
    "1. (operações com escalar) Calcule o percentual de acerto dos alunos por assunto.  \n",
    "2. (operações entre *DataFrames) Calcule o total de acertos de cada aluno.  \n",
    "3. Calcule o porcentual geral de cada aluno.  \n",
    "4. Suponha que a nota de corte para a segunda fase seja 45. Quantos alunos tiveram nota maior que 45?  "
   ]
  },
  {
   "cell_type": "code",
   "execution_count": 1,
   "metadata": {
    "id": "Ll6TadxCC8-y"
   },
   "outputs": [],
   "source": [
    "import pandas as pd\n",
    "import numpy as np\n",
    "\n",
    "np.random.seed(42)\n",
    "df_mat = pd.DataFrame(np.random.randint(24, size=(100, 1)), columns=['Qt_acertos'])\n",
    "\n",
    "df_por = pd.DataFrame(np.random.randint(18, size=(100, 1)), columns=['Qt_acertos'])\n",
    "\n",
    "df_geo = pd.DataFrame(np.random.randint(8, size=(100, 1)), columns=['Qt_acertos'])\n",
    "\n",
    "df_ing = pd.DataFrame(np.random.randint(8, size=(100, 1)), columns=['Qt_acertos'])\n",
    "\n",
    "df_his = pd.DataFrame(np.random.randint(8, size=(100, 1)), columns=['Qt_acertos'])\n",
    "\n",
    "df_fis = pd.DataFrame(np.random.randint(12, size=(100, 1)), columns=['Qt_acertos'])\n",
    "\n",
    "df_qui = pd.DataFrame(np.random.randint(12, size=(100, 1)), columns=['Qt_acertos'])"
   ]
  },
  {
   "cell_type": "code",
   "execution_count": 3,
   "metadata": {
    "id": "JVmLXiC2C8-0"
   },
   "outputs": [
    {
     "name": "stdout",
     "output_type": "stream",
     "text": [
      "0     25.000000\n",
      "1     79.166667\n",
      "2     58.333333\n",
      "3     41.666667\n",
      "4     29.166667\n",
      "        ...    \n",
      "95    25.000000\n",
      "96    33.333333\n",
      "97    95.833333\n",
      "98     0.000000\n",
      "99    45.833333\n",
      "Name: Qt_acertos, Length: 100, dtype: float64\n",
      "0     38.888889\n",
      "1     55.555556\n",
      "2     88.888889\n",
      "3     38.888889\n",
      "4     11.111111\n",
      "        ...    \n",
      "95    22.222222\n",
      "96     5.555556\n",
      "97    27.777778\n",
      "98    55.555556\n",
      "99    83.333333\n",
      "Name: Qt_acertos, Length: 100, dtype: float64\n",
      "0     87.5\n",
      "1      0.0\n",
      "2      0.0\n",
      "3     37.5\n",
      "4     25.0\n",
      "      ... \n",
      "95    87.5\n",
      "96    50.0\n",
      "97     0.0\n",
      "98    37.5\n",
      "99     0.0\n",
      "Name: Qt_acertos, Length: 100, dtype: float64\n",
      "0     37.5\n",
      "1      0.0\n",
      "2     62.5\n",
      "3     50.0\n",
      "4     87.5\n",
      "      ... \n",
      "95    12.5\n",
      "96    75.0\n",
      "97    25.0\n",
      "98    12.5\n",
      "99    12.5\n",
      "Name: Qt_acertos, Length: 100, dtype: float64\n",
      "0     12.5\n",
      "1      0.0\n",
      "2     87.5\n",
      "3      0.0\n",
      "4      0.0\n",
      "      ... \n",
      "95    50.0\n",
      "96    12.5\n",
      "97    50.0\n",
      "98    62.5\n",
      "99    75.0\n",
      "Name: Qt_acertos, Length: 100, dtype: float64\n",
      "0     66.666667\n",
      "1     91.666667\n",
      "2     33.333333\n",
      "3      0.000000\n",
      "4     75.000000\n",
      "        ...    \n",
      "95    75.000000\n",
      "96    33.333333\n",
      "97     8.333333\n",
      "98    83.333333\n",
      "99    58.333333\n",
      "Name: Qt_acertos, Length: 100, dtype: float64\n",
      "0     25.000000\n",
      "1     66.666667\n",
      "2     33.333333\n",
      "3     66.666667\n",
      "4     25.000000\n",
      "        ...    \n",
      "95    25.000000\n",
      "96    25.000000\n",
      "97    41.666667\n",
      "98    91.666667\n",
      "99    16.666667\n",
      "Name: Qt_acertos, Length: 100, dtype: float64\n"
     ]
    }
   ],
   "source": [
    "# 1) Seu código aqui\n",
    "percentual_df_mat = (df_mat/24) * 100\n",
    "print(percentual_df_mat['Qt_acertos'])\n",
    "\n",
    "percentual_df_por = (df_por/18) * 100\n",
    "print(percentual_df_por['Qt_acertos'])\n",
    "\n",
    "percentual_df_geo = (df_geo/8) * 100\n",
    "print(percentual_df_geo['Qt_acertos'])\n",
    "\n",
    "percentual_df_ing = (df_ing/8) * 100\n",
    "print(percentual_df_ing['Qt_acertos'])\n",
    "\n",
    "percentual_df_his = (df_his/8) * 100\n",
    "print(percentual_df_his['Qt_acertos'])\n",
    "\n",
    "percentual_df_fis = (df_fis/12) * 100\n",
    "print(percentual_df_fis['Qt_acertos'])\n",
    "\n",
    "percentual_df_qui = (df_qui/12) * 100\n",
    "print(percentual_df_qui['Qt_acertos'])"
   ]
  },
  {
   "cell_type": "code",
   "execution_count": 4,
   "metadata": {
    "id": "JbTwCyNHC8-1"
   },
   "outputs": [
    {
     "data": {
      "text/html": [
       "<div>\n",
       "<style scoped>\n",
       "    .dataframe tbody tr th:only-of-type {\n",
       "        vertical-align: middle;\n",
       "    }\n",
       "\n",
       "    .dataframe tbody tr th {\n",
       "        vertical-align: top;\n",
       "    }\n",
       "\n",
       "    .dataframe thead th {\n",
       "        text-align: right;\n",
       "    }\n",
       "</style>\n",
       "<table border=\"1\" class=\"dataframe\">\n",
       "  <thead>\n",
       "    <tr style=\"text-align: right;\">\n",
       "      <th></th>\n",
       "      <th>Qt_acertos</th>\n",
       "    </tr>\n",
       "  </thead>\n",
       "  <tbody>\n",
       "    <tr>\n",
       "      <th>0</th>\n",
       "      <td>35</td>\n",
       "    </tr>\n",
       "    <tr>\n",
       "      <th>1</th>\n",
       "      <td>48</td>\n",
       "    </tr>\n",
       "    <tr>\n",
       "      <th>2</th>\n",
       "      <td>50</td>\n",
       "    </tr>\n",
       "    <tr>\n",
       "      <th>3</th>\n",
       "      <td>32</td>\n",
       "    </tr>\n",
       "    <tr>\n",
       "      <th>4</th>\n",
       "      <td>30</td>\n",
       "    </tr>\n",
       "    <tr>\n",
       "      <th>...</th>\n",
       "      <td>...</td>\n",
       "    </tr>\n",
       "    <tr>\n",
       "      <th>95</th>\n",
       "      <td>34</td>\n",
       "    </tr>\n",
       "    <tr>\n",
       "      <th>96</th>\n",
       "      <td>27</td>\n",
       "    </tr>\n",
       "    <tr>\n",
       "      <th>97</th>\n",
       "      <td>40</td>\n",
       "    </tr>\n",
       "    <tr>\n",
       "      <th>98</th>\n",
       "      <td>40</td>\n",
       "    </tr>\n",
       "    <tr>\n",
       "      <th>99</th>\n",
       "      <td>42</td>\n",
       "    </tr>\n",
       "  </tbody>\n",
       "</table>\n",
       "<p>100 rows × 1 columns</p>\n",
       "</div>"
      ],
      "text/plain": [
       "    Qt_acertos\n",
       "0           35\n",
       "1           48\n",
       "2           50\n",
       "3           32\n",
       "4           30\n",
       "..         ...\n",
       "95          34\n",
       "96          27\n",
       "97          40\n",
       "98          40\n",
       "99          42\n",
       "\n",
       "[100 rows x 1 columns]"
      ]
     },
     "execution_count": 4,
     "metadata": {},
     "output_type": "execute_result"
    }
   ],
   "source": [
    "# 2) Seu código aqui\n",
    "total_acertos = df_mat + df_por + df_geo + df_ing + df_his + df_fis + df_qui\n",
    "total_acertos"
   ]
  },
  {
   "cell_type": "code",
   "execution_count": 6,
   "metadata": {
    "id": "c2L8dJkVC8-3"
   },
   "outputs": [
    {
     "data": {
      "text/html": [
       "<div>\n",
       "<style scoped>\n",
       "    .dataframe tbody tr th:only-of-type {\n",
       "        vertical-align: middle;\n",
       "    }\n",
       "\n",
       "    .dataframe tbody tr th {\n",
       "        vertical-align: top;\n",
       "    }\n",
       "\n",
       "    .dataframe thead th {\n",
       "        text-align: right;\n",
       "    }\n",
       "</style>\n",
       "<table border=\"1\" class=\"dataframe\">\n",
       "  <thead>\n",
       "    <tr style=\"text-align: right;\">\n",
       "      <th></th>\n",
       "      <th>Qt_acertos</th>\n",
       "    </tr>\n",
       "  </thead>\n",
       "  <tbody>\n",
       "    <tr>\n",
       "      <th>0</th>\n",
       "      <td>35.0</td>\n",
       "    </tr>\n",
       "    <tr>\n",
       "      <th>1</th>\n",
       "      <td>48.0</td>\n",
       "    </tr>\n",
       "    <tr>\n",
       "      <th>2</th>\n",
       "      <td>50.0</td>\n",
       "    </tr>\n",
       "    <tr>\n",
       "      <th>3</th>\n",
       "      <td>32.0</td>\n",
       "    </tr>\n",
       "    <tr>\n",
       "      <th>4</th>\n",
       "      <td>30.0</td>\n",
       "    </tr>\n",
       "    <tr>\n",
       "      <th>...</th>\n",
       "      <td>...</td>\n",
       "    </tr>\n",
       "    <tr>\n",
       "      <th>95</th>\n",
       "      <td>34.0</td>\n",
       "    </tr>\n",
       "    <tr>\n",
       "      <th>96</th>\n",
       "      <td>27.0</td>\n",
       "    </tr>\n",
       "    <tr>\n",
       "      <th>97</th>\n",
       "      <td>40.0</td>\n",
       "    </tr>\n",
       "    <tr>\n",
       "      <th>98</th>\n",
       "      <td>40.0</td>\n",
       "    </tr>\n",
       "    <tr>\n",
       "      <th>99</th>\n",
       "      <td>42.0</td>\n",
       "    </tr>\n",
       "  </tbody>\n",
       "</table>\n",
       "<p>100 rows × 1 columns</p>\n",
       "</div>"
      ],
      "text/plain": [
       "    Qt_acertos\n",
       "0         35.0\n",
       "1         48.0\n",
       "2         50.0\n",
       "3         32.0\n",
       "4         30.0\n",
       "..         ...\n",
       "95        34.0\n",
       "96        27.0\n",
       "97        40.0\n",
       "98        40.0\n",
       "99        42.0\n",
       "\n",
       "[100 rows x 1 columns]"
      ]
     },
     "execution_count": 6,
     "metadata": {},
     "output_type": "execute_result"
    }
   ],
   "source": [
    "# 3) Seu código aqui\n",
    "percentual_alunos = (total_acertos / 100) * 100\n",
    "percentual_alunos"
   ]
  },
  {
   "cell_type": "code",
   "execution_count": 7,
   "metadata": {
    "id": "PZTZ7DFzC8-3"
   },
   "outputs": [
    {
     "name": "stdout",
     "output_type": "stream",
     "text": [
      "A quantidade de alunos aprovados foi: 34\n"
     ]
    }
   ],
   "source": [
    "# 4) Seu código aqui\n",
    "alunos_acima = percentual_alunos['Qt_acertos'] >= 45.0\n",
    "alunos_acima\n",
    "qt_true = alunos_acima.sum()\n",
    "print(\"A quantidade de alunos aprovados foi:\", qt_true)"
   ]
  },
  {
   "cell_type": "markdown",
   "metadata": {
    "id": "Hlfl75XXC8-4"
   },
   "source": [
    "## 2) Vestibular II\n",
    "\n",
    "Ainda sobre o mesmo banco de dados:\n",
    "\n",
    "1. Neste vestibular, quem 'zera' em matemática, física ou química está desqualificado. Monte um novo *DataFrame* com os alunos desqualificados por este critério.\n",
    "2. Quantos são esses alunos?\n",
    "3. Qual a média desses alunos em história e geografia?\n",
    "4. Monte um *DataFrame* com os alunos que passaram para a segunda fase. Repare que estes alunos não podem ter sido desqualificados."
   ]
  },
  {
   "cell_type": "code",
   "execution_count": 45,
   "metadata": {
    "id": "hPaMGXvJC8-4"
   },
   "outputs": [
    {
     "name": "stdout",
     "output_type": "stream",
     "text": [
      "    Qt_acertos\n",
      "25           0\n",
      "94           0\n",
      "98           0\n",
      "    Qt_acertos\n",
      "3            0\n",
      "6            0\n",
      "12           0\n",
      "26           0\n",
      "35           0\n",
      "49           0\n",
      "56           0\n",
      "65           0\n",
      "66           0\n",
      "72           0\n",
      "73           0\n",
      "84           0\n",
      "    Qt_acertos\n",
      "10           0\n",
      "14           0\n",
      "20           0\n",
      "26           0\n",
      "27           0\n",
      "33           0\n",
      "74           0\n",
      "89           0\n",
      "92           0\n",
      "A quantidade de alunos zerados é: 23\n"
     ]
    }
   ],
   "source": [
    "# seu código aqui\n",
    "#alunos_zero = pd.DataFrame(df_mat['Qt_acertos'] == 0)\n",
    "#alunos_zeros = pd.DataFrame(alunos_zero['Qt_acertos'] = True)\n",
    "#alunos_zeros\n",
    "#df_mat\n",
    "df_alunos_zero_mat = pd.DataFrame(df_mat[df_mat['Qt_acertos'] == 0])\n",
    "print(df_alunos_zero_mat)\n",
    "df_alunos_zero_fis = pd.DataFrame(df_fis[df_fis['Qt_acertos'] == 0])\n",
    "print(df_alunos_zero_fis)\n",
    "df_alunos_zero_qui = pd.DataFrame(df_qui[df_qui['Qt_acertos'] == 0])\n",
    "print(df_alunos_zero_qui)\n",
    "df_alunos_zero = df_alunos_zero_mat + df_alunos_zero_fis + df_alunos_zero_qui\n",
    "#df_alunos_zero_mat_fis = pd.merge(df_alunos_zero_mat, df_alunos_zero_fis)\n",
    "#df_alunos_zero = pd.merge(df_alunos_zero_mat_fis, df_alunos_zero_qui, how = 'outer')\n",
    "num_alunos = df_alunos_zero.shape[0]\n",
    "print(\"A quantidade de alunos zerados é:\", num_alunos)\n"
   ]
  },
  {
   "cell_type": "code",
   "execution_count": 25,
   "metadata": {},
   "outputs": [
    {
     "name": "stdout",
     "output_type": "stream",
     "text": [
      "    Qt_acertos\n",
      "25           0\n",
      "94           1\n",
      "98           5\n",
      "    Qt_acertos\n",
      "25           7\n",
      "94           2\n",
      "98           3\n",
      "    Qt_acertos\n",
      "3            0\n",
      "6            5\n",
      "12           1\n",
      "26           7\n",
      "35           3\n",
      "49           1\n",
      "56           6\n",
      "65           3\n",
      "66           3\n",
      "72           7\n",
      "73           3\n",
      "84           1\n",
      "    Qt_acertos\n",
      "3            3\n",
      "6            7\n",
      "12           3\n",
      "26           6\n",
      "35           6\n",
      "49           1\n",
      "56           7\n",
      "65           2\n",
      "66           3\n",
      "72           3\n",
      "73           2\n",
      "84           0\n",
      "    Qt_acertos\n",
      "10           1\n",
      "14           1\n",
      "20           6\n",
      "26           7\n",
      "27           7\n",
      "33           6\n",
      "74           5\n",
      "89           6\n",
      "92           1\n",
      "    Qt_acertos\n",
      "10           3\n",
      "14           1\n",
      "20           6\n",
      "26           6\n",
      "27           1\n",
      "33           0\n",
      "74           0\n",
      "89           7\n",
      "92           1\n",
      "Média em história:  10.75\n",
      "Média em geografia:  10.0\n"
     ]
    }
   ],
   "source": [
    "df_alunos_zero_mat_his = pd.DataFrame(df_his[df_mat['Qt_acertos'] == 0])\n",
    "print(df_alunos_zero_mat_his)\n",
    "df_alunos_zero_mat_geo = pd.DataFrame(df_geo[df_mat['Qt_acertos'] == 0])\n",
    "print(df_alunos_zero_mat_geo)\n",
    "df_alunos_zero_fis_his = pd.DataFrame(df_his[df_fis['Qt_acertos'] == 0])\n",
    "print(df_alunos_zero_fis_his)\n",
    "df_alunos_zero_fis_geo = pd.DataFrame(df_geo[df_fis['Qt_acertos'] == 0])\n",
    "print(df_alunos_zero_fis_geo)\n",
    "df_alunos_zero_qui_his = pd.DataFrame(df_his[df_qui['Qt_acertos'] == 0])\n",
    "print(df_alunos_zero_qui_his)\n",
    "df_alunos_zero_qui_geo = pd.DataFrame(df_geo[df_qui['Qt_acertos'] == 0])\n",
    "print(df_alunos_zero_qui_geo)\n",
    "\n",
    "media_his = (df_alunos_zero_mat_his['Qt_acertos'].sum() + df_alunos_zero_fis_his['Qt_acertos'].sum() + df_alunos_zero_qui_his['Qt_acertos'].sum()) / 8\n",
    "print(\"Média em história: \",media_his)\n",
    "\n",
    "media_geo = (df_alunos_zero_mat_geo['Qt_acertos'].sum() + df_alunos_zero_fis_geo['Qt_acertos'].sum() + df_alunos_zero_qui_geo['Qt_acertos'].sum()) / 8\n",
    "print(\"Média em geografia: \",media_geo)\n"
   ]
  },
  {
   "cell_type": "code",
   "execution_count": 29,
   "metadata": {},
   "outputs": [
    {
     "name": "stdout",
     "output_type": "stream",
     "text": [
      "    Qt_acertos\n",
      "0            6\n",
      "1           19\n",
      "2           14\n",
      "3           10\n",
      "4            7\n",
      "..         ...\n",
      "93          12\n",
      "95           6\n",
      "96           8\n",
      "97          23\n",
      "99          11\n",
      "\n",
      "[97 rows x 1 columns]\n",
      "    Qt_acertos\n",
      "0            8\n",
      "1           11\n",
      "2            4\n",
      "4            9\n",
      "5            9\n",
      "..         ...\n",
      "95           9\n",
      "96           4\n",
      "97           1\n",
      "98          10\n",
      "99           7\n",
      "\n",
      "[88 rows x 1 columns]\n",
      "    Qt_acertos\n",
      "0            3\n",
      "1            8\n",
      "2            4\n",
      "3            8\n",
      "4            3\n",
      "..         ...\n",
      "95           3\n",
      "96           3\n",
      "97           5\n",
      "98          11\n",
      "99           2\n",
      "\n",
      "[91 rows x 1 columns]\n"
     ]
    },
    {
     "data": {
      "text/plain": [
       "276"
      ]
     },
     "execution_count": 29,
     "metadata": {},
     "output_type": "execute_result"
    }
   ],
   "source": [
    "df_alunos_mat = pd.DataFrame(df_mat[df_mat['Qt_acertos'] > 0])\n",
    "print(df_alunos_mat)\n",
    "df_alunos_mat_passou = pd.DataFrame(df_alunos_mat[df_mat['Qt_acertos'] > 0])\n",
    "df_alunos_fis = pd.DataFrame(df_fis[df_fis['Qt_acertos'] > 0])\n",
    "print(df_alunos_fis)\n",
    "df_alunos_qui = pd.DataFrame(df_qui[df_qui['Qt_acertos'] > 0])\n",
    "print(df_alunos_qui)\n",
    "df_alunos_passou = df_alunos_mat.shape[0] + df_alunos_fis.shape[0] + df_alunos_qui.shape[0]\n",
    "df_alunos_passou"
   ]
  },
  {
   "cell_type": "markdown",
   "metadata": {
    "id": "EGBUWpAHC8-5"
   },
   "source": [
    "## 3) Vacinações no Acre\n",
    "Vamos trabalhar agora com a base de vacinações no Acre. Para facilitar a sua vida, copiamos o link do arquivo na célula abaixo.\n",
    "\n",
    "1. Quantas vacinas estão registradas nessa base?  \n",
    "2. Quantos pacientes foram vacinados? (considere um paciente para cada valor único de ```paciente_id```)  \n",
    "3. Quantos pacientes únicos tomaram a primeira dose? OBS: Há um caractere especial neste campo. Receba os valores do campo com o método ```.unique()```.   \n",
    "4. Quantos pacientes com menos de 18 anos foram vacinados?  \n",
    "5. Quantos estabelecimentos aplicaram vacina no Acre?\n",
    "\n",
    "\n",
    "**OBS:** O portal do DATASUS pode apresentar instabilidades, retornando um erro na segunda célula abaixo. Por este motivo está disponível uma base estática, que se for baixada para o seu *working directory* pode ser lida com este comando: ```df = pd.read_csv('registros de vacinacao covid ACRE.csv', sep=';')```.\n",
    "\n",
    "**OBS2:** Para saber qual é o seu working directory, rode no jupyter: ```!pwd```."
   ]
  },
  {
   "cell_type": "code",
   "execution_count": null,
   "metadata": {},
   "outputs": [],
   "source": []
  },
  {
   "cell_type": "code",
   "execution_count": 5,
   "metadata": {
    "id": "ET4r139hC8-5"
   },
   "outputs": [],
   "source": [
    "arquivo = 'https://s3.sa-east-1.amazonaws.com/ckan.saude.gov.br/SIPNI/COVID/uf/uf%3DAC/part-00000-17c92a5b-055b-4f11-85b6-7b37fa3ddd51.c000.csv'"
   ]
  },
  {
   "cell_type": "code",
   "execution_count": 38,
   "metadata": {
    "id": "SC9YMWLSC8-6"
   },
   "outputs": [],
   "source": [
    "# 1) Sua solução aqui\n",
    "vacAcre = pd.read_csv(arquivo, sep=';')\n"
   ]
  },
  {
   "cell_type": "code",
   "execution_count": 8,
   "metadata": {
    "id": "PMztY1RlC8-7"
   },
   "outputs": [
    {
     "name": "stdout",
     "output_type": "stream",
     "text": [
      "A quantidade de vacinas registradas na base é:  390911\n"
     ]
    }
   ],
   "source": [
    "# 1) \n",
    "qtd_vacinas = vacAcre.shape[0]\n",
    "print('A quantidade de vacinas registradas na base é: ', qtd_vacinas)\n"
   ]
  },
  {
   "cell_type": "code",
   "execution_count": 9,
   "metadata": {
    "id": "V_wr--3JC8-7"
   },
   "outputs": [
    {
     "name": "stdout",
     "output_type": "stream",
     "text": [
      "A quantidade de pacientes vacinados é: 318850\n"
     ]
    }
   ],
   "source": [
    "# 2)\n",
    "qtd_pacientes = vacAcre['paciente_id'].nunique()\n",
    "\n",
    "print('A quantidade de pacientes vacinados é:', qtd_pacientes)"
   ]
  },
  {
   "cell_type": "code",
   "execution_count": 12,
   "metadata": {
    "id": "SPHgIxtcC8-7"
   },
   "outputs": [
    {
     "data": {
      "text/html": [
       "<div>\n",
       "<style scoped>\n",
       "    .dataframe tbody tr th:only-of-type {\n",
       "        vertical-align: middle;\n",
       "    }\n",
       "\n",
       "    .dataframe tbody tr th {\n",
       "        vertical-align: top;\n",
       "    }\n",
       "\n",
       "    .dataframe thead th {\n",
       "        text-align: right;\n",
       "    }\n",
       "</style>\n",
       "<table border=\"1\" class=\"dataframe\">\n",
       "  <thead>\n",
       "    <tr style=\"text-align: right;\">\n",
       "      <th></th>\n",
       "      <th>document_id</th>\n",
       "      <th>paciente_id</th>\n",
       "      <th>paciente_idade</th>\n",
       "      <th>paciente_dataNascimento</th>\n",
       "      <th>paciente_enumSexoBiologico</th>\n",
       "      <th>paciente_racaCor_codigo</th>\n",
       "      <th>paciente_racaCor_valor</th>\n",
       "      <th>paciente_endereco_coIbgeMunicipio</th>\n",
       "      <th>paciente_endereco_coPais</th>\n",
       "      <th>paciente_endereco_nmMunicipio</th>\n",
       "      <th>...</th>\n",
       "      <th>vacina_categoria_codigo</th>\n",
       "      <th>vacina_categoria_nome</th>\n",
       "      <th>vacina_lote</th>\n",
       "      <th>vacina_fabricante_nome</th>\n",
       "      <th>vacina_fabricante_referencia</th>\n",
       "      <th>vacina_dataAplicacao</th>\n",
       "      <th>vacina_descricao_dose</th>\n",
       "      <th>vacina_codigo</th>\n",
       "      <th>vacina_nome</th>\n",
       "      <th>sistema_origem</th>\n",
       "    </tr>\n",
       "  </thead>\n",
       "  <tbody>\n",
       "    <tr>\n",
       "      <th>0</th>\n",
       "      <td>b63af233-21d8-4af7-9aa9-3f8ff6285753-i0b0</td>\n",
       "      <td>3fdd86b8842269eda2dd906eb0aa15473ae1b5f8e64f1c...</td>\n",
       "      <td>49</td>\n",
       "      <td>1972-03-16</td>\n",
       "      <td>M</td>\n",
       "      <td>3</td>\n",
       "      <td>PARDA</td>\n",
       "      <td>120040.0</td>\n",
       "      <td>10.0</td>\n",
       "      <td>RIO BRANCO</td>\n",
       "      <td>...</td>\n",
       "      <td>2.0</td>\n",
       "      <td>Faixa Etária</td>\n",
       "      <td>FF8848</td>\n",
       "      <td>PFIZER</td>\n",
       "      <td>Organization/00394544000851</td>\n",
       "      <td>2021-10-25</td>\n",
       "      <td>2ª Dose</td>\n",
       "      <td>87</td>\n",
       "      <td>COVID-19 PFIZER - COMIRNATY</td>\n",
       "      <td>Novo PNI</td>\n",
       "    </tr>\n",
       "    <tr>\n",
       "      <th>1</th>\n",
       "      <td>fad14228-9e6e-4895-8dd5-d590bceaa136-i0b0</td>\n",
       "      <td>9f7c6a218929e7cd3763aaf6174b3bd104a79d5f9fb796...</td>\n",
       "      <td>16</td>\n",
       "      <td>2005-06-27</td>\n",
       "      <td>M</td>\n",
       "      <td>99</td>\n",
       "      <td>SEM INFORMACAO</td>\n",
       "      <td>120040.0</td>\n",
       "      <td>10.0</td>\n",
       "      <td>RIO BRANCO</td>\n",
       "      <td>...</td>\n",
       "      <td>2.0</td>\n",
       "      <td>Faixa Etária</td>\n",
       "      <td>FD7221</td>\n",
       "      <td>PFIZER</td>\n",
       "      <td>Organization/00394544000851</td>\n",
       "      <td>2021-08-13</td>\n",
       "      <td>1ª Dose</td>\n",
       "      <td>87</td>\n",
       "      <td>COVID-19 PFIZER - COMIRNATY</td>\n",
       "      <td>Novo PNI</td>\n",
       "    </tr>\n",
       "    <tr>\n",
       "      <th>2</th>\n",
       "      <td>ad099eee-6582-4fa0-ac02-c520237d7eed-i0b0</td>\n",
       "      <td>f56c5670b9907b8ca51387a37b67dfe41a203b3688bbe1...</td>\n",
       "      <td>20</td>\n",
       "      <td>2001-01-15</td>\n",
       "      <td>M</td>\n",
       "      <td>5</td>\n",
       "      <td>INDIGENA</td>\n",
       "      <td>120035.0</td>\n",
       "      <td>10.0</td>\n",
       "      <td>MARECHAL THAUMATURGO</td>\n",
       "      <td>...</td>\n",
       "      <td>7.0</td>\n",
       "      <td>Povos Indígenas</td>\n",
       "      <td>219VCD268W</td>\n",
       "      <td>ASTRAZENECA/FIOCRUZ</td>\n",
       "      <td>Organization/149</td>\n",
       "      <td>2022-01-12</td>\n",
       "      <td>Reforço</td>\n",
       "      <td>85</td>\n",
       "      <td>COVID-19 ASTRAZENECA/FIOCRUZ - COVISHIELD</td>\n",
       "      <td>Novo PNI</td>\n",
       "    </tr>\n",
       "    <tr>\n",
       "      <th>3</th>\n",
       "      <td>fadbea84-381c-4e84-920c-fdd146d96744-i0b0</td>\n",
       "      <td>59ea685f572ee8be8c48fef8962167a2b96ab5627613a2...</td>\n",
       "      <td>30</td>\n",
       "      <td>1993-11-30</td>\n",
       "      <td>F</td>\n",
       "      <td>3</td>\n",
       "      <td>PARDA</td>\n",
       "      <td>120040.0</td>\n",
       "      <td>10.0</td>\n",
       "      <td>RIO BRANCO</td>\n",
       "      <td>...</td>\n",
       "      <td>21.0</td>\n",
       "      <td>Gestantes</td>\n",
       "      <td>230165</td>\n",
       "      <td>BUTANTAN</td>\n",
       "      <td>152</td>\n",
       "      <td>2024-03-05</td>\n",
       "      <td>Única</td>\n",
       "      <td>33</td>\n",
       "      <td>INF3</td>\n",
       "      <td>Novo PNI</td>\n",
       "    </tr>\n",
       "    <tr>\n",
       "      <th>4</th>\n",
       "      <td>bdad6954-8116-4dc1-8399-6ac77025deab-i0b0</td>\n",
       "      <td>ee602301bbb261956818bd58c5b213051e0347020e72c0...</td>\n",
       "      <td>49</td>\n",
       "      <td>1974-04-25</td>\n",
       "      <td>F</td>\n",
       "      <td>3</td>\n",
       "      <td>PARDA</td>\n",
       "      <td>130260.0</td>\n",
       "      <td>10.0</td>\n",
       "      <td>MANAUS</td>\n",
       "      <td>...</td>\n",
       "      <td>2.0</td>\n",
       "      <td>Faixa Etária</td>\n",
       "      <td>230165</td>\n",
       "      <td>BUTANTAN</td>\n",
       "      <td>152</td>\n",
       "      <td>2023-12-08</td>\n",
       "      <td>Única</td>\n",
       "      <td>33</td>\n",
       "      <td>INF3</td>\n",
       "      <td>Novo PNI</td>\n",
       "    </tr>\n",
       "  </tbody>\n",
       "</table>\n",
       "<p>5 rows × 32 columns</p>\n",
       "</div>"
      ],
      "text/plain": [
       "                                 document_id  \\\n",
       "0  b63af233-21d8-4af7-9aa9-3f8ff6285753-i0b0   \n",
       "1  fad14228-9e6e-4895-8dd5-d590bceaa136-i0b0   \n",
       "2  ad099eee-6582-4fa0-ac02-c520237d7eed-i0b0   \n",
       "3  fadbea84-381c-4e84-920c-fdd146d96744-i0b0   \n",
       "4  bdad6954-8116-4dc1-8399-6ac77025deab-i0b0   \n",
       "\n",
       "                                         paciente_id  paciente_idade  \\\n",
       "0  3fdd86b8842269eda2dd906eb0aa15473ae1b5f8e64f1c...              49   \n",
       "1  9f7c6a218929e7cd3763aaf6174b3bd104a79d5f9fb796...              16   \n",
       "2  f56c5670b9907b8ca51387a37b67dfe41a203b3688bbe1...              20   \n",
       "3  59ea685f572ee8be8c48fef8962167a2b96ab5627613a2...              30   \n",
       "4  ee602301bbb261956818bd58c5b213051e0347020e72c0...              49   \n",
       "\n",
       "  paciente_dataNascimento paciente_enumSexoBiologico  paciente_racaCor_codigo  \\\n",
       "0              1972-03-16                          M                        3   \n",
       "1              2005-06-27                          M                       99   \n",
       "2              2001-01-15                          M                        5   \n",
       "3              1993-11-30                          F                        3   \n",
       "4              1974-04-25                          F                        3   \n",
       "\n",
       "  paciente_racaCor_valor  paciente_endereco_coIbgeMunicipio  \\\n",
       "0                  PARDA                           120040.0   \n",
       "1         SEM INFORMACAO                           120040.0   \n",
       "2               INDIGENA                           120035.0   \n",
       "3                  PARDA                           120040.0   \n",
       "4                  PARDA                           130260.0   \n",
       "\n",
       "   paciente_endereco_coPais paciente_endereco_nmMunicipio  ...  \\\n",
       "0                      10.0                    RIO BRANCO  ...   \n",
       "1                      10.0                    RIO BRANCO  ...   \n",
       "2                      10.0          MARECHAL THAUMATURGO  ...   \n",
       "3                      10.0                    RIO BRANCO  ...   \n",
       "4                      10.0                        MANAUS  ...   \n",
       "\n",
       "  vacina_categoria_codigo vacina_categoria_nome  vacina_lote  \\\n",
       "0                     2.0          Faixa Etária       FF8848   \n",
       "1                     2.0          Faixa Etária       FD7221   \n",
       "2                     7.0       Povos Indígenas   219VCD268W   \n",
       "3                    21.0             Gestantes       230165   \n",
       "4                     2.0          Faixa Etária       230165   \n",
       "\n",
       "  vacina_fabricante_nome  vacina_fabricante_referencia vacina_dataAplicacao  \\\n",
       "0                 PFIZER   Organization/00394544000851           2021-10-25   \n",
       "1                 PFIZER   Organization/00394544000851           2021-08-13   \n",
       "2    ASTRAZENECA/FIOCRUZ              Organization/149           2022-01-12   \n",
       "3               BUTANTAN                           152           2024-03-05   \n",
       "4               BUTANTAN                           152           2023-12-08   \n",
       "\n",
       "  vacina_descricao_dose  vacina_codigo  \\\n",
       "0               2ª Dose             87   \n",
       "1               1ª Dose             87   \n",
       "2               Reforço             85   \n",
       "3                 Única             33   \n",
       "4                 Única             33   \n",
       "\n",
       "                                 vacina_nome sistema_origem  \n",
       "0                COVID-19 PFIZER - COMIRNATY       Novo PNI  \n",
       "1                COVID-19 PFIZER - COMIRNATY       Novo PNI  \n",
       "2  COVID-19 ASTRAZENECA/FIOCRUZ - COVISHIELD       Novo PNI  \n",
       "3                                       INF3       Novo PNI  \n",
       "4                                       INF3       Novo PNI  \n",
       "\n",
       "[5 rows x 32 columns]"
      ]
     },
     "execution_count": 12,
     "metadata": {},
     "output_type": "execute_result"
    }
   ],
   "source": [
    "# 3) solução alternativa\n",
    "vacAcre.head(5)"
   ]
  },
  {
   "cell_type": "code",
   "execution_count": 29,
   "metadata": {
    "id": "S6ab9ExEC8-7"
   },
   "outputs": [
    {
     "name": "stdout",
     "output_type": "stream",
     "text": [
      "143754 pacientes tomaram a primeira dose da vacina.\n"
     ]
    }
   ],
   "source": [
    "# 3)\n",
    "vacAcreCopy = vacAcre.loc[vacAcre['vacina_descricao_dose'] == '1ª Dose']\n",
    "qtd_1dose = vacAcreCopy['paciente_id'].nunique()\n",
    "print(qtd_1dose, 'pacientes tomaram a primeira dose da vacina.')"
   ]
  },
  {
   "cell_type": "code",
   "execution_count": 43,
   "metadata": {
    "id": "PVrY_-qlC8-8"
   },
   "outputs": [
    {
     "name": "stdout",
     "output_type": "stream",
     "text": [
      "69726 pacientes abaixo de 18 anos foram vacinados.\n"
     ]
    }
   ],
   "source": [
    "# 4)\n",
    "#vacAcreAbaixo18 = vacAcre.loc[vacAcre['paciente_idade'] < 18]\n",
    "#vacAcreAbaixo18\n",
    "vacAcre['paciente_idade'] = vacAcre['paciente_idade'].astype(int)\n",
    "vacAcre.dtypes\n",
    "\n",
    "vacAcreAbaixo18 = vacAcre.loc[vacAcre['paciente_idade'] < 18]\n",
    "vacAcreAbaixo18_2 = vacAcreAbaixo18['paciente_id'].nunique()\n",
    "#vacinadosabaixode18 = vacAcreAbaixo18_2.shape[0]\n",
    "print(vacAcreAbaixo18_2, 'pacientes abaixo de 18 anos foram vacinados.')"
   ]
  },
  {
   "cell_type": "code",
   "execution_count": null,
   "metadata": {},
   "outputs": [],
   "source": [
    "# 5)\n"
   ]
  },
  {
   "cell_type": "markdown",
   "metadata": {
    "id": "LH1LSYvGC8-8"
   },
   "source": [
    "## 4) Vacinação II\n",
    "Gere um *DataFrame* que contenha somente os estabelecimentos que aplicaram vcinas a menores de 18 anos. Nesse *DataFrame* devem conter somente os dados dos estabelecimentos, mais uma coluna sendo a quantidade de vacinas que o estabelecimento aplicou a menores de 18 anos.  \n",
    "  \n",
    "1. crie uma cópia do *DataFrame* original, contendo somente os registros de vacinas realizadas a menores de 18 anos.  \n",
    "2. crie uma lista das colunas desse *DataFrame* com o atributo de *DataFrame* **.columns()**  \n",
    "3. Nesse *DataFrame* faça uma contagem do campo ```vacina_categoria_nome```.\n",
    "3. a partir da lista de colunas, escolha somente aquelas que são referentes ao estabelecimento, faça uma lista com esses valores.  \n",
    "4. usando o método *.loc*, selecione somente essas variáveis  \n",
    "5. Aplique o método **.drop_duplicates** e crie uma lista com uma linha para cada estabelecimento, com os dados do estabelecimento  "
   ]
  },
  {
   "cell_type": "code",
   "execution_count": null,
   "metadata": {
    "id": "3ojs12vUC8-8"
   },
   "outputs": [],
   "source": [
    "# 1)\n"
   ]
  },
  {
   "cell_type": "code",
   "execution_count": null,
   "metadata": {
    "id": "sLyevPRBC8-8"
   },
   "outputs": [],
   "source": [
    "# 2)\n"
   ]
  },
  {
   "cell_type": "code",
   "execution_count": null,
   "metadata": {
    "id": "lZAW-Dp8C8-8"
   },
   "outputs": [],
   "source": [
    "# 3)\n"
   ]
  },
  {
   "cell_type": "code",
   "execution_count": null,
   "metadata": {
    "id": "xxYsxrxAC8-8"
   },
   "outputs": [],
   "source": [
    "# 4)\n"
   ]
  },
  {
   "cell_type": "code",
   "execution_count": null,
   "metadata": {
    "id": "vaX2x_0rC8-8"
   },
   "outputs": [],
   "source": [
    "# 5)\n"
   ]
  }
 ],
 "metadata": {
  "colab": {
   "provenance": []
  },
  "kernelspec": {
   "display_name": "Python 3 (ipykernel)",
   "language": "python",
   "name": "python3"
  },
  "language_info": {
   "codemirror_mode": {
    "name": "ipython",
    "version": 3
   },
   "file_extension": ".py",
   "mimetype": "text/x-python",
   "name": "python",
   "nbconvert_exporter": "python",
   "pygments_lexer": "ipython3",
   "version": "3.11.7"
  },
  "toc": {
   "base_numbering": 1,
   "nav_menu": {},
   "number_sections": false,
   "sideBar": true,
   "skip_h1_title": true,
   "title_cell": "Índice",
   "title_sidebar": "Conteúdo",
   "toc_cell": false,
   "toc_position": {},
   "toc_section_display": true,
   "toc_window_display": false
  },
  "varInspector": {
   "cols": {
    "lenName": 16,
    "lenType": 16,
    "lenVar": 40
   },
   "kernels_config": {
    "python": {
     "delete_cmd_postfix": "",
     "delete_cmd_prefix": "del ",
     "library": "var_list.py",
     "varRefreshCmd": "print(var_dic_list())"
    },
    "r": {
     "delete_cmd_postfix": ") ",
     "delete_cmd_prefix": "rm(",
     "library": "var_list.r",
     "varRefreshCmd": "cat(var_dic_list()) "
    }
   },
   "types_to_exclude": [
    "module",
    "function",
    "builtin_function_or_method",
    "instance",
    "_Feature"
   ],
   "window_display": false
  }
 },
 "nbformat": 4,
 "nbformat_minor": 4
}
